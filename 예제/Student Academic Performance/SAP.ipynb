{
 "cells": [
  {
   "cell_type": "markdown",
   "metadata": {},
   "source": [
    "gender: 학생의 성별 (M: 남성, F: 여성)\n",
    "NationaliTy: 학생의 국적\n",
    "PlaceofBirth: 학생이 태어난 국가\n",
    "StageID: 학생이 다니는 학교 (초,중,고)\n",
    "GradeID: 학생이 속한 성적 등급\n",
    "SectionID: 학생이 속한 반 이름\n",
    "Topic: 수강한 과목\n",
    "Semester: 수강한 학기 (1학기/2학기)\n",
    "Relation: 주 보호자와 학생의 관계\n",
    "raisedhands: 학생이 수업 중 손을 든 횟수\n",
    "VisITedResources: 학생이 과목 공지를 확인한 횟수\n",
    "Discussion: 학생이 토론 그룹에 참여한 횟수\n",
    "ParentAnsweringSurvey: 부모가 학교 설문에 참여했는지 여부\n",
    "ParentschoolSatisfaction: 부모가 학교에 만족했는지 여부\n",
    "ays: 학생의 결석 횟수 (7회 이상/미만)\n",
    "Class: 학생의 성적 등급 (L: 낮음, M: 보통, H: 높음)\n"
   ]
  },
  {
   "cell_type": "code",
   "execution_count": null,
   "metadata": {},
   "outputs": [],
   "source": []
  }
 ],
 "metadata": {
  "language_info": {
   "name": "python"
  }
 },
 "nbformat": 4,
 "nbformat_minor": 2
}
