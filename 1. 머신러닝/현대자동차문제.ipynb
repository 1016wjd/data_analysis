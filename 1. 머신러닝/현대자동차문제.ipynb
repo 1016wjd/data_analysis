{
 "cells": [
  {
   "cell_type": "markdown",
   "metadata": {},
   "source": [
    "### 현대자동차 "
   ]
  },
  {
   "cell_type": "markdown",
   "metadata": {},
   "source": [
    "### 0. 모델 평가척도 함수"
   ]
  },
  {
   "cell_type": "code",
   "execution_count": 3,
   "metadata": {},
   "outputs": [],
   "source": [
    "from sklearn.metrics import r2_score\n",
    "from sklearn.metrics import mean_squared_error\n",
    "from sklearn.metrics import mean_absolute_error\n",
    "from sklearn.metrics import mean_squared_log_error\n",
    "\n",
    "def evaluate_reg_all(y_test, y_predict):\n",
    "    MSE = mean_squared_error(y_test,y_predict,squared=True)\n",
    "    RMSE = mean_squared_error(y_test,y_predict,squared=False)\n",
    "    MAE = mean_absolute_error(y_test,y_predict)\n",
    "    R2 = r2_score(y_test,y_predict)\n",
    "    \n",
    "    print(f'MSE: {MSE:.3f}, RMSE: {RMSE:.3F}, MAE: {MAE:.3F}, R^2: {R2:.3F}')"
   ]
  },
  {
   "cell_type": "markdown",
   "metadata": {},
   "source": [
    "### 0. EDA (데이터 탐색)"
   ]
  },
  {
   "cell_type": "code",
   "execution_count": 4,
   "metadata": {},
   "outputs": [],
   "source": [
    "# 데이터 불러오기 \n",
    "import pandas as pd \n",
    "\n",
    "df_train = pd.read_csv('./data/train.csv')\n",
    "df_test = pd.read_csv('./data/test.csv')"
   ]
  },
  {
   "cell_type": "markdown",
   "metadata": {},
   "source": [
    "1. 결측치 처리"
   ]
  },
  {
   "cell_type": "code",
   "execution_count": 5,
   "metadata": {},
   "outputs": [],
   "source": [
    "import missingno as msno\n",
    "import matplotlib.pyplot as plt\n",
    "import pandas as pd\n",
    "import numpy as np\n",
    "plt.rcParams['figure.dpi'] = 300"
   ]
  },
  {
   "cell_type": "code",
   "execution_count": 6,
   "metadata": {},
   "outputs": [
    {
     "data": {
      "text/plain": [
       "가격       0\n",
       "년식       0\n",
       "종류       0\n",
       "연비       0\n",
       "마력       0\n",
       "토크       0\n",
       "연료       0\n",
       "하이브리드    0\n",
       "배기량      0\n",
       "중량       0\n",
       "변속기      0\n",
       "dtype: int64"
      ]
     },
     "execution_count": 6,
     "metadata": {},
     "output_type": "execute_result"
    }
   ],
   "source": [
    "# 결측값 확인\n",
    "df_train.isnull().sum()"
   ]
  },
  {
   "cell_type": "code",
   "execution_count": 7,
   "metadata": {},
   "outputs": [
    {
     "data": {
      "text/plain": [
       "가격       0\n",
       "년식       0\n",
       "종류       0\n",
       "연비       0\n",
       "마력       0\n",
       "토크       0\n",
       "연료       0\n",
       "하이브리드    0\n",
       "배기량      0\n",
       "중량       0\n",
       "변속기      0\n",
       "dtype: int64"
      ]
     },
     "execution_count": 7,
     "metadata": {},
     "output_type": "execute_result"
    }
   ],
   "source": [
    "df_test.isnull().sum()"
   ]
  },
  {
   "cell_type": "markdown",
   "metadata": {},
   "source": [
    "2. 중복값 처리"
   ]
  },
  {
   "cell_type": "code",
   "execution_count": 8,
   "metadata": {},
   "outputs": [
    {
     "data": {
      "text/plain": [
       "(71, 11)"
      ]
     },
     "execution_count": 8,
     "metadata": {},
     "output_type": "execute_result"
    }
   ],
   "source": [
    "df_train.shape"
   ]
  },
  {
   "cell_type": "code",
   "execution_count": 9,
   "metadata": {},
   "outputs": [
    {
     "data": {
      "text/html": [
       "<div>\n",
       "<style scoped>\n",
       "    .dataframe tbody tr th:only-of-type {\n",
       "        vertical-align: middle;\n",
       "    }\n",
       "\n",
       "    .dataframe tbody tr th {\n",
       "        vertical-align: top;\n",
       "    }\n",
       "\n",
       "    .dataframe thead th {\n",
       "        text-align: right;\n",
       "    }\n",
       "</style>\n",
       "<table border=\"1\" class=\"dataframe\">\n",
       "  <thead>\n",
       "    <tr style=\"text-align: right;\">\n",
       "      <th></th>\n",
       "      <th>가격</th>\n",
       "      <th>년식</th>\n",
       "      <th>종류</th>\n",
       "      <th>연비</th>\n",
       "      <th>마력</th>\n",
       "      <th>토크</th>\n",
       "      <th>연료</th>\n",
       "      <th>하이브리드</th>\n",
       "      <th>배기량</th>\n",
       "      <th>중량</th>\n",
       "      <th>변속기</th>\n",
       "    </tr>\n",
       "  </thead>\n",
       "  <tbody>\n",
       "    <tr>\n",
       "      <th>16</th>\n",
       "      <td>1960</td>\n",
       "      <td>2015</td>\n",
       "      <td>대형</td>\n",
       "      <td>11.4</td>\n",
       "      <td>175</td>\n",
       "      <td>46.0</td>\n",
       "      <td>디젤</td>\n",
       "      <td>0</td>\n",
       "      <td>2497</td>\n",
       "      <td>1990</td>\n",
       "      <td>수동</td>\n",
       "    </tr>\n",
       "  </tbody>\n",
       "</table>\n",
       "</div>"
      ],
      "text/plain": [
       "      가격    년식  종류    연비   마력    토크  연료  하이브리드   배기량    중량 변속기\n",
       "16  1960  2015  대형  11.4  175  46.0  디젤      0  2497  1990  수동"
      ]
     },
     "execution_count": 9,
     "metadata": {},
     "output_type": "execute_result"
    }
   ],
   "source": [
    "# 중복값 찾기\n",
    "df_train[df_train.duplicated()]"
   ]
  },
  {
   "cell_type": "code",
   "execution_count": 10,
   "metadata": {},
   "outputs": [],
   "source": [
    "# 중복값 제거해서 데이터 저장\n",
    "from sklearn.pipeline import make_pipeline"
   ]
  },
  {
   "cell_type": "code",
   "execution_count": 11,
   "metadata": {},
   "outputs": [
    {
     "data": {
      "text/plain": [
       "(71, 11)"
      ]
     },
     "execution_count": 11,
     "metadata": {},
     "output_type": "execute_result"
    }
   ],
   "source": [
    "# 중복값 제거한 후 확인\n",
    "df_train.shape "
   ]
  },
  {
   "cell_type": "code",
   "execution_count": 12,
   "metadata": {},
   "outputs": [],
   "source": [
    "df_train.to_csv('./data/train_pre.csv', index=False) # 가공완료 데이터 \n",
    "# df_train = pd.read_csv('./data/train_pre.csv')"
   ]
  },
  {
   "cell_type": "code",
   "execution_count": 13,
   "metadata": {},
   "outputs": [
    {
     "data": {
      "text/html": [
       "<div>\n",
       "<style scoped>\n",
       "    .dataframe tbody tr th:only-of-type {\n",
       "        vertical-align: middle;\n",
       "    }\n",
       "\n",
       "    .dataframe tbody tr th {\n",
       "        vertical-align: top;\n",
       "    }\n",
       "\n",
       "    .dataframe thead th {\n",
       "        text-align: right;\n",
       "    }\n",
       "</style>\n",
       "<table border=\"1\" class=\"dataframe\">\n",
       "  <thead>\n",
       "    <tr style=\"text-align: right;\">\n",
       "      <th></th>\n",
       "      <th>가격</th>\n",
       "      <th>년식</th>\n",
       "      <th>종류</th>\n",
       "      <th>연비</th>\n",
       "      <th>마력</th>\n",
       "      <th>토크</th>\n",
       "      <th>연료</th>\n",
       "      <th>하이브리드</th>\n",
       "      <th>배기량</th>\n",
       "      <th>중량</th>\n",
       "      <th>변속기</th>\n",
       "    </tr>\n",
       "  </thead>\n",
       "  <tbody>\n",
       "    <tr>\n",
       "      <th>0</th>\n",
       "      <td>1885</td>\n",
       "      <td>2015</td>\n",
       "      <td>준중형</td>\n",
       "      <td>11.8</td>\n",
       "      <td>172</td>\n",
       "      <td>21.0</td>\n",
       "      <td>가솔린</td>\n",
       "      <td>0</td>\n",
       "      <td>1999</td>\n",
       "      <td>1300</td>\n",
       "      <td>자동</td>\n",
       "    </tr>\n",
       "    <tr>\n",
       "      <th>1</th>\n",
       "      <td>2190</td>\n",
       "      <td>2015</td>\n",
       "      <td>준중형</td>\n",
       "      <td>12.3</td>\n",
       "      <td>204</td>\n",
       "      <td>27.0</td>\n",
       "      <td>가솔린</td>\n",
       "      <td>0</td>\n",
       "      <td>1591</td>\n",
       "      <td>1300</td>\n",
       "      <td>자동</td>\n",
       "    </tr>\n",
       "    <tr>\n",
       "      <th>2</th>\n",
       "      <td>1135</td>\n",
       "      <td>2015</td>\n",
       "      <td>소형</td>\n",
       "      <td>15.0</td>\n",
       "      <td>100</td>\n",
       "      <td>13.6</td>\n",
       "      <td>가솔린</td>\n",
       "      <td>0</td>\n",
       "      <td>1368</td>\n",
       "      <td>1035</td>\n",
       "      <td>수동</td>\n",
       "    </tr>\n",
       "    <tr>\n",
       "      <th>3</th>\n",
       "      <td>1645</td>\n",
       "      <td>2014</td>\n",
       "      <td>소형</td>\n",
       "      <td>14.0</td>\n",
       "      <td>140</td>\n",
       "      <td>17.0</td>\n",
       "      <td>가솔린</td>\n",
       "      <td>0</td>\n",
       "      <td>1591</td>\n",
       "      <td>1090</td>\n",
       "      <td>자동</td>\n",
       "    </tr>\n",
       "    <tr>\n",
       "      <th>4</th>\n",
       "      <td>1960</td>\n",
       "      <td>2015</td>\n",
       "      <td>대형</td>\n",
       "      <td>9.6</td>\n",
       "      <td>175</td>\n",
       "      <td>46.0</td>\n",
       "      <td>디젤</td>\n",
       "      <td>0</td>\n",
       "      <td>2497</td>\n",
       "      <td>1990</td>\n",
       "      <td>자동</td>\n",
       "    </tr>\n",
       "    <tr>\n",
       "      <th>...</th>\n",
       "      <td>...</td>\n",
       "      <td>...</td>\n",
       "      <td>...</td>\n",
       "      <td>...</td>\n",
       "      <td>...</td>\n",
       "      <td>...</td>\n",
       "      <td>...</td>\n",
       "      <td>...</td>\n",
       "      <td>...</td>\n",
       "      <td>...</td>\n",
       "      <td>...</td>\n",
       "    </tr>\n",
       "    <tr>\n",
       "      <th>66</th>\n",
       "      <td>3802</td>\n",
       "      <td>2015</td>\n",
       "      <td>중형</td>\n",
       "      <td>8.5</td>\n",
       "      <td>290</td>\n",
       "      <td>34.8</td>\n",
       "      <td>가솔린</td>\n",
       "      <td>0</td>\n",
       "      <td>3342</td>\n",
       "      <td>1901</td>\n",
       "      <td>자동</td>\n",
       "    </tr>\n",
       "    <tr>\n",
       "      <th>67</th>\n",
       "      <td>1270</td>\n",
       "      <td>2012</td>\n",
       "      <td>소형</td>\n",
       "      <td>13.3</td>\n",
       "      <td>108</td>\n",
       "      <td>13.9</td>\n",
       "      <td>가솔린</td>\n",
       "      <td>0</td>\n",
       "      <td>1396</td>\n",
       "      <td>1040</td>\n",
       "      <td>자동</td>\n",
       "    </tr>\n",
       "    <tr>\n",
       "      <th>68</th>\n",
       "      <td>2430</td>\n",
       "      <td>2015</td>\n",
       "      <td>준중형</td>\n",
       "      <td>12.8</td>\n",
       "      <td>186</td>\n",
       "      <td>41.0</td>\n",
       "      <td>디젤</td>\n",
       "      <td>0</td>\n",
       "      <td>1995</td>\n",
       "      <td>1665</td>\n",
       "      <td>자동</td>\n",
       "    </tr>\n",
       "    <tr>\n",
       "      <th>69</th>\n",
       "      <td>2870</td>\n",
       "      <td>2015</td>\n",
       "      <td>중형</td>\n",
       "      <td>17.7</td>\n",
       "      <td>156</td>\n",
       "      <td>19.3</td>\n",
       "      <td>가솔린</td>\n",
       "      <td>1</td>\n",
       "      <td>1999</td>\n",
       "      <td>1585</td>\n",
       "      <td>자동</td>\n",
       "    </tr>\n",
       "    <tr>\n",
       "      <th>70</th>\n",
       "      <td>3254</td>\n",
       "      <td>2015</td>\n",
       "      <td>대형</td>\n",
       "      <td>13.8</td>\n",
       "      <td>202</td>\n",
       "      <td>45.0</td>\n",
       "      <td>디젤</td>\n",
       "      <td>0</td>\n",
       "      <td>2199</td>\n",
       "      <td>1691</td>\n",
       "      <td>자동</td>\n",
       "    </tr>\n",
       "  </tbody>\n",
       "</table>\n",
       "<p>71 rows × 11 columns</p>\n",
       "</div>"
      ],
      "text/plain": [
       "      가격    년식   종류    연비   마력    토크   연료  하이브리드   배기량    중량 변속기\n",
       "0   1885  2015  준중형  11.8  172  21.0  가솔린      0  1999  1300  자동\n",
       "1   2190  2015  준중형  12.3  204  27.0  가솔린      0  1591  1300  자동\n",
       "2   1135  2015   소형  15.0  100  13.6  가솔린      0  1368  1035  수동\n",
       "3   1645  2014   소형  14.0  140  17.0  가솔린      0  1591  1090  자동\n",
       "4   1960  2015   대형   9.6  175  46.0   디젤      0  2497  1990  자동\n",
       "..   ...   ...  ...   ...  ...   ...  ...    ...   ...   ...  ..\n",
       "66  3802  2015   중형   8.5  290  34.8  가솔린      0  3342  1901  자동\n",
       "67  1270  2012   소형  13.3  108  13.9  가솔린      0  1396  1040  자동\n",
       "68  2430  2015  준중형  12.8  186  41.0   디젤      0  1995  1665  자동\n",
       "69  2870  2015   중형  17.7  156  19.3  가솔린      1  1999  1585  자동\n",
       "70  3254  2015   대형  13.8  202  45.0   디젤      0  2199  1691  자동\n",
       "\n",
       "[71 rows x 11 columns]"
      ]
     },
     "execution_count": 13,
     "metadata": {},
     "output_type": "execute_result"
    }
   ],
   "source": [
    "pd.read_csv('./data/train_pre.csv')"
   ]
  },
  {
   "cell_type": "markdown",
   "metadata": {},
   "source": [
    "3.  이상치"
   ]
  },
  {
   "cell_type": "code",
   "execution_count": 14,
   "metadata": {},
   "outputs": [
    {
     "data": {
      "text/html": [
       "<div>\n",
       "<style scoped>\n",
       "    .dataframe tbody tr th:only-of-type {\n",
       "        vertical-align: middle;\n",
       "    }\n",
       "\n",
       "    .dataframe tbody tr th {\n",
       "        vertical-align: top;\n",
       "    }\n",
       "\n",
       "    .dataframe thead th {\n",
       "        text-align: right;\n",
       "    }\n",
       "</style>\n",
       "<table border=\"1\" class=\"dataframe\">\n",
       "  <thead>\n",
       "    <tr style=\"text-align: right;\">\n",
       "      <th></th>\n",
       "      <th>가격</th>\n",
       "      <th>년식</th>\n",
       "      <th>종류</th>\n",
       "      <th>연비</th>\n",
       "      <th>마력</th>\n",
       "      <th>토크</th>\n",
       "      <th>연료</th>\n",
       "      <th>하이브리드</th>\n",
       "      <th>배기량</th>\n",
       "      <th>중량</th>\n",
       "      <th>변속기</th>\n",
       "    </tr>\n",
       "  </thead>\n",
       "  <tbody>\n",
       "    <tr>\n",
       "      <th>0</th>\n",
       "      <td>1885</td>\n",
       "      <td>2015</td>\n",
       "      <td>준중형</td>\n",
       "      <td>11.8</td>\n",
       "      <td>172</td>\n",
       "      <td>21.0</td>\n",
       "      <td>가솔린</td>\n",
       "      <td>0</td>\n",
       "      <td>1999</td>\n",
       "      <td>1300</td>\n",
       "      <td>자동</td>\n",
       "    </tr>\n",
       "    <tr>\n",
       "      <th>1</th>\n",
       "      <td>2190</td>\n",
       "      <td>2015</td>\n",
       "      <td>준중형</td>\n",
       "      <td>12.3</td>\n",
       "      <td>204</td>\n",
       "      <td>27.0</td>\n",
       "      <td>가솔린</td>\n",
       "      <td>0</td>\n",
       "      <td>1591</td>\n",
       "      <td>1300</td>\n",
       "      <td>자동</td>\n",
       "    </tr>\n",
       "    <tr>\n",
       "      <th>2</th>\n",
       "      <td>1135</td>\n",
       "      <td>2015</td>\n",
       "      <td>소형</td>\n",
       "      <td>15.0</td>\n",
       "      <td>100</td>\n",
       "      <td>13.6</td>\n",
       "      <td>가솔린</td>\n",
       "      <td>0</td>\n",
       "      <td>1368</td>\n",
       "      <td>1035</td>\n",
       "      <td>수동</td>\n",
       "    </tr>\n",
       "    <tr>\n",
       "      <th>3</th>\n",
       "      <td>1645</td>\n",
       "      <td>2014</td>\n",
       "      <td>소형</td>\n",
       "      <td>14.0</td>\n",
       "      <td>140</td>\n",
       "      <td>17.0</td>\n",
       "      <td>가솔린</td>\n",
       "      <td>0</td>\n",
       "      <td>1591</td>\n",
       "      <td>1090</td>\n",
       "      <td>자동</td>\n",
       "    </tr>\n",
       "    <tr>\n",
       "      <th>4</th>\n",
       "      <td>1960</td>\n",
       "      <td>2015</td>\n",
       "      <td>대형</td>\n",
       "      <td>9.6</td>\n",
       "      <td>175</td>\n",
       "      <td>46.0</td>\n",
       "      <td>디젤</td>\n",
       "      <td>0</td>\n",
       "      <td>2497</td>\n",
       "      <td>1990</td>\n",
       "      <td>자동</td>\n",
       "    </tr>\n",
       "  </tbody>\n",
       "</table>\n",
       "</div>"
      ],
      "text/plain": [
       "     가격    년식   종류    연비   마력    토크   연료  하이브리드   배기량    중량 변속기\n",
       "0  1885  2015  준중형  11.8  172  21.0  가솔린      0  1999  1300  자동\n",
       "1  2190  2015  준중형  12.3  204  27.0  가솔린      0  1591  1300  자동\n",
       "2  1135  2015   소형  15.0  100  13.6  가솔린      0  1368  1035  수동\n",
       "3  1645  2014   소형  14.0  140  17.0  가솔린      0  1591  1090  자동\n",
       "4  1960  2015   대형   9.6  175  46.0   디젤      0  2497  1990  자동"
      ]
     },
     "execution_count": 14,
     "metadata": {},
     "output_type": "execute_result"
    }
   ],
   "source": [
    "df_train.head()"
   ]
  },
  {
   "cell_type": "code",
   "execution_count": 15,
   "metadata": {},
   "outputs": [
    {
     "data": {
      "text/plain": [
       "<Axes: >"
      ]
     },
     "execution_count": 15,
     "metadata": {},
     "output_type": "execute_result"
    },
    {
     "name": "stderr",
     "output_type": "stream",
     "text": [
      "C:\\Users\\user\\AppData\\Roaming\\Python\\Python310\\site-packages\\IPython\\core\\pylabtools.py:152: UserWarning: Glyph 44032 (\\N{HANGUL SYLLABLE GA}) missing from current font.\n",
      "  fig.canvas.print_figure(bytes_io, **kw)\n",
      "C:\\Users\\user\\AppData\\Roaming\\Python\\Python310\\site-packages\\IPython\\core\\pylabtools.py:152: UserWarning: Glyph 44201 (\\N{HANGUL SYLLABLE GYEOG}) missing from current font.\n",
      "  fig.canvas.print_figure(bytes_io, **kw)\n",
      "C:\\Users\\user\\AppData\\Roaming\\Python\\Python310\\site-packages\\IPython\\core\\pylabtools.py:152: UserWarning: Glyph 45380 (\\N{HANGUL SYLLABLE NYEON}) missing from current font.\n",
      "  fig.canvas.print_figure(bytes_io, **kw)\n",
      "C:\\Users\\user\\AppData\\Roaming\\Python\\Python310\\site-packages\\IPython\\core\\pylabtools.py:152: UserWarning: Glyph 49885 (\\N{HANGUL SYLLABLE SIG}) missing from current font.\n",
      "  fig.canvas.print_figure(bytes_io, **kw)\n",
      "C:\\Users\\user\\AppData\\Roaming\\Python\\Python310\\site-packages\\IPython\\core\\pylabtools.py:152: UserWarning: Glyph 50672 (\\N{HANGUL SYLLABLE YEON}) missing from current font.\n",
      "  fig.canvas.print_figure(bytes_io, **kw)\n",
      "C:\\Users\\user\\AppData\\Roaming\\Python\\Python310\\site-packages\\IPython\\core\\pylabtools.py:152: UserWarning: Glyph 48708 (\\N{HANGUL SYLLABLE BI}) missing from current font.\n",
      "  fig.canvas.print_figure(bytes_io, **kw)\n",
      "C:\\Users\\user\\AppData\\Roaming\\Python\\Python310\\site-packages\\IPython\\core\\pylabtools.py:152: UserWarning: Glyph 47560 (\\N{HANGUL SYLLABLE MA}) missing from current font.\n",
      "  fig.canvas.print_figure(bytes_io, **kw)\n",
      "C:\\Users\\user\\AppData\\Roaming\\Python\\Python310\\site-packages\\IPython\\core\\pylabtools.py:152: UserWarning: Glyph 47141 (\\N{HANGUL SYLLABLE RYEOG}) missing from current font.\n",
      "  fig.canvas.print_figure(bytes_io, **kw)\n",
      "C:\\Users\\user\\AppData\\Roaming\\Python\\Python310\\site-packages\\IPython\\core\\pylabtools.py:152: UserWarning: Glyph 53664 (\\N{HANGUL SYLLABLE TO}) missing from current font.\n",
      "  fig.canvas.print_figure(bytes_io, **kw)\n",
      "C:\\Users\\user\\AppData\\Roaming\\Python\\Python310\\site-packages\\IPython\\core\\pylabtools.py:152: UserWarning: Glyph 53356 (\\N{HANGUL SYLLABLE KEU}) missing from current font.\n",
      "  fig.canvas.print_figure(bytes_io, **kw)\n",
      "C:\\Users\\user\\AppData\\Roaming\\Python\\Python310\\site-packages\\IPython\\core\\pylabtools.py:152: UserWarning: Glyph 54616 (\\N{HANGUL SYLLABLE HA}) missing from current font.\n",
      "  fig.canvas.print_figure(bytes_io, **kw)\n",
      "C:\\Users\\user\\AppData\\Roaming\\Python\\Python310\\site-packages\\IPython\\core\\pylabtools.py:152: UserWarning: Glyph 51060 (\\N{HANGUL SYLLABLE I}) missing from current font.\n",
      "  fig.canvas.print_figure(bytes_io, **kw)\n",
      "C:\\Users\\user\\AppData\\Roaming\\Python\\Python310\\site-packages\\IPython\\core\\pylabtools.py:152: UserWarning: Glyph 48652 (\\N{HANGUL SYLLABLE BEU}) missing from current font.\n",
      "  fig.canvas.print_figure(bytes_io, **kw)\n",
      "C:\\Users\\user\\AppData\\Roaming\\Python\\Python310\\site-packages\\IPython\\core\\pylabtools.py:152: UserWarning: Glyph 47532 (\\N{HANGUL SYLLABLE RI}) missing from current font.\n",
      "  fig.canvas.print_figure(bytes_io, **kw)\n",
      "C:\\Users\\user\\AppData\\Roaming\\Python\\Python310\\site-packages\\IPython\\core\\pylabtools.py:152: UserWarning: Glyph 46300 (\\N{HANGUL SYLLABLE DEU}) missing from current font.\n",
      "  fig.canvas.print_figure(bytes_io, **kw)\n",
      "C:\\Users\\user\\AppData\\Roaming\\Python\\Python310\\site-packages\\IPython\\core\\pylabtools.py:152: UserWarning: Glyph 48176 (\\N{HANGUL SYLLABLE BAE}) missing from current font.\n",
      "  fig.canvas.print_figure(bytes_io, **kw)\n",
      "C:\\Users\\user\\AppData\\Roaming\\Python\\Python310\\site-packages\\IPython\\core\\pylabtools.py:152: UserWarning: Glyph 44592 (\\N{HANGUL SYLLABLE GI}) missing from current font.\n",
      "  fig.canvas.print_figure(bytes_io, **kw)\n",
      "C:\\Users\\user\\AppData\\Roaming\\Python\\Python310\\site-packages\\IPython\\core\\pylabtools.py:152: UserWarning: Glyph 47049 (\\N{HANGUL SYLLABLE RYANG}) missing from current font.\n",
      "  fig.canvas.print_figure(bytes_io, **kw)\n",
      "C:\\Users\\user\\AppData\\Roaming\\Python\\Python310\\site-packages\\IPython\\core\\pylabtools.py:152: UserWarning: Glyph 51473 (\\N{HANGUL SYLLABLE JUNG}) missing from current font.\n",
      "  fig.canvas.print_figure(bytes_io, **kw)\n"
     ]
    },
    {
     "data": {
      "image/png": "[encoded data removed]",
      "text/plain": [
       "<Figure size 1920x1440 with 1 Axes>"
      ]
     },
     "metadata": {},
     "output_type": "display_data"
    }
   ],
   "source": [
    "df_train.boxplot()"
   ]
  },
  {
   "cell_type": "markdown",
   "metadata": {},
   "source": [
    "4. 인코딩"
   ]
  },
  {
   "cell_type": "code",
   "execution_count": 16,
   "metadata": {},
   "outputs": [
    {
     "data": {
      "text/html": [
       "<div>\n",
       "<style scoped>\n",
       "    .dataframe tbody tr th:only-of-type {\n",
       "        vertical-align: middle;\n",
       "    }\n",
       "\n",
       "    .dataframe tbody tr th {\n",
       "        vertical-align: top;\n",
       "    }\n",
       "\n",
       "    .dataframe thead th {\n",
       "        text-align: right;\n",
       "    }\n",
       "</style>\n",
       "<table border=\"1\" class=\"dataframe\">\n",
       "  <thead>\n",
       "    <tr style=\"text-align: right;\">\n",
       "      <th></th>\n",
       "      <th>가격</th>\n",
       "      <th>년식</th>\n",
       "      <th>종류</th>\n",
       "      <th>연비</th>\n",
       "      <th>마력</th>\n",
       "      <th>토크</th>\n",
       "      <th>연료</th>\n",
       "      <th>하이브리드</th>\n",
       "      <th>배기량</th>\n",
       "      <th>중량</th>\n",
       "      <th>변속기</th>\n",
       "    </tr>\n",
       "  </thead>\n",
       "  <tbody>\n",
       "    <tr>\n",
       "      <th>0</th>\n",
       "      <td>1885</td>\n",
       "      <td>2015</td>\n",
       "      <td>준중형</td>\n",
       "      <td>11.8</td>\n",
       "      <td>172</td>\n",
       "      <td>21.0</td>\n",
       "      <td>가솔린</td>\n",
       "      <td>0</td>\n",
       "      <td>1999</td>\n",
       "      <td>1300</td>\n",
       "      <td>자동</td>\n",
       "    </tr>\n",
       "    <tr>\n",
       "      <th>1</th>\n",
       "      <td>2190</td>\n",
       "      <td>2015</td>\n",
       "      <td>준중형</td>\n",
       "      <td>12.3</td>\n",
       "      <td>204</td>\n",
       "      <td>27.0</td>\n",
       "      <td>가솔린</td>\n",
       "      <td>0</td>\n",
       "      <td>1591</td>\n",
       "      <td>1300</td>\n",
       "      <td>자동</td>\n",
       "    </tr>\n",
       "    <tr>\n",
       "      <th>2</th>\n",
       "      <td>1135</td>\n",
       "      <td>2015</td>\n",
       "      <td>소형</td>\n",
       "      <td>15.0</td>\n",
       "      <td>100</td>\n",
       "      <td>13.6</td>\n",
       "      <td>가솔린</td>\n",
       "      <td>0</td>\n",
       "      <td>1368</td>\n",
       "      <td>1035</td>\n",
       "      <td>수동</td>\n",
       "    </tr>\n",
       "    <tr>\n",
       "      <th>3</th>\n",
       "      <td>1645</td>\n",
       "      <td>2014</td>\n",
       "      <td>소형</td>\n",
       "      <td>14.0</td>\n",
       "      <td>140</td>\n",
       "      <td>17.0</td>\n",
       "      <td>가솔린</td>\n",
       "      <td>0</td>\n",
       "      <td>1591</td>\n",
       "      <td>1090</td>\n",
       "      <td>자동</td>\n",
       "    </tr>\n",
       "    <tr>\n",
       "      <th>4</th>\n",
       "      <td>1960</td>\n",
       "      <td>2015</td>\n",
       "      <td>대형</td>\n",
       "      <td>9.6</td>\n",
       "      <td>175</td>\n",
       "      <td>46.0</td>\n",
       "      <td>디젤</td>\n",
       "      <td>0</td>\n",
       "      <td>2497</td>\n",
       "      <td>1990</td>\n",
       "      <td>자동</td>\n",
       "    </tr>\n",
       "    <tr>\n",
       "      <th>...</th>\n",
       "      <td>...</td>\n",
       "      <td>...</td>\n",
       "      <td>...</td>\n",
       "      <td>...</td>\n",
       "      <td>...</td>\n",
       "      <td>...</td>\n",
       "      <td>...</td>\n",
       "      <td>...</td>\n",
       "      <td>...</td>\n",
       "      <td>...</td>\n",
       "      <td>...</td>\n",
       "    </tr>\n",
       "    <tr>\n",
       "      <th>66</th>\n",
       "      <td>3802</td>\n",
       "      <td>2015</td>\n",
       "      <td>중형</td>\n",
       "      <td>8.5</td>\n",
       "      <td>290</td>\n",
       "      <td>34.8</td>\n",
       "      <td>가솔린</td>\n",
       "      <td>0</td>\n",
       "      <td>3342</td>\n",
       "      <td>1901</td>\n",
       "      <td>자동</td>\n",
       "    </tr>\n",
       "    <tr>\n",
       "      <th>67</th>\n",
       "      <td>1270</td>\n",
       "      <td>2012</td>\n",
       "      <td>소형</td>\n",
       "      <td>13.3</td>\n",
       "      <td>108</td>\n",
       "      <td>13.9</td>\n",
       "      <td>가솔린</td>\n",
       "      <td>0</td>\n",
       "      <td>1396</td>\n",
       "      <td>1040</td>\n",
       "      <td>자동</td>\n",
       "    </tr>\n",
       "    <tr>\n",
       "      <th>68</th>\n",
       "      <td>2430</td>\n",
       "      <td>2015</td>\n",
       "      <td>준중형</td>\n",
       "      <td>12.8</td>\n",
       "      <td>186</td>\n",
       "      <td>41.0</td>\n",
       "      <td>디젤</td>\n",
       "      <td>0</td>\n",
       "      <td>1995</td>\n",
       "      <td>1665</td>\n",
       "      <td>자동</td>\n",
       "    </tr>\n",
       "    <tr>\n",
       "      <th>69</th>\n",
       "      <td>2870</td>\n",
       "      <td>2015</td>\n",
       "      <td>중형</td>\n",
       "      <td>17.7</td>\n",
       "      <td>156</td>\n",
       "      <td>19.3</td>\n",
       "      <td>가솔린</td>\n",
       "      <td>1</td>\n",
       "      <td>1999</td>\n",
       "      <td>1585</td>\n",
       "      <td>자동</td>\n",
       "    </tr>\n",
       "    <tr>\n",
       "      <th>70</th>\n",
       "      <td>3254</td>\n",
       "      <td>2015</td>\n",
       "      <td>대형</td>\n",
       "      <td>13.8</td>\n",
       "      <td>202</td>\n",
       "      <td>45.0</td>\n",
       "      <td>디젤</td>\n",
       "      <td>0</td>\n",
       "      <td>2199</td>\n",
       "      <td>1691</td>\n",
       "      <td>자동</td>\n",
       "    </tr>\n",
       "  </tbody>\n",
       "</table>\n",
       "<p>71 rows × 11 columns</p>\n",
       "</div>"
      ],
      "text/plain": [
       "      가격    년식   종류    연비   마력    토크   연료  하이브리드   배기량    중량 변속기\n",
       "0   1885  2015  준중형  11.8  172  21.0  가솔린      0  1999  1300  자동\n",
       "1   2190  2015  준중형  12.3  204  27.0  가솔린      0  1591  1300  자동\n",
       "2   1135  2015   소형  15.0  100  13.6  가솔린      0  1368  1035  수동\n",
       "3   1645  2014   소형  14.0  140  17.0  가솔린      0  1591  1090  자동\n",
       "4   1960  2015   대형   9.6  175  46.0   디젤      0  2497  1990  자동\n",
       "..   ...   ...  ...   ...  ...   ...  ...    ...   ...   ...  ..\n",
       "66  3802  2015   중형   8.5  290  34.8  가솔린      0  3342  1901  자동\n",
       "67  1270  2012   소형  13.3  108  13.9  가솔린      0  1396  1040  자동\n",
       "68  2430  2015  준중형  12.8  186  41.0   디젤      0  1995  1665  자동\n",
       "69  2870  2015   중형  17.7  156  19.3  가솔린      1  1999  1585  자동\n",
       "70  3254  2015   대형  13.8  202  45.0   디젤      0  2199  1691  자동\n",
       "\n",
       "[71 rows x 11 columns]"
      ]
     },
     "execution_count": 16,
     "metadata": {},
     "output_type": "execute_result"
    }
   ],
   "source": [
    "df_train"
   ]
  },
  {
   "cell_type": "code",
   "execution_count": 17,
   "metadata": {},
   "outputs": [
    {
     "data": {
      "text/html": [
       "<div>\n",
       "<style scoped>\n",
       "    .dataframe tbody tr th:only-of-type {\n",
       "        vertical-align: middle;\n",
       "    }\n",
       "\n",
       "    .dataframe tbody tr th {\n",
       "        vertical-align: top;\n",
       "    }\n",
       "\n",
       "    .dataframe thead th {\n",
       "        text-align: right;\n",
       "    }\n",
       "</style>\n",
       "<table border=\"1\" class=\"dataframe\">\n",
       "  <thead>\n",
       "    <tr style=\"text-align: right;\">\n",
       "      <th></th>\n",
       "      <th>년식</th>\n",
       "      <th>종류</th>\n",
       "      <th>연비</th>\n",
       "      <th>마력</th>\n",
       "      <th>토크</th>\n",
       "      <th>연료</th>\n",
       "      <th>하이브리드</th>\n",
       "      <th>배기량</th>\n",
       "      <th>중량</th>\n",
       "      <th>변속기</th>\n",
       "    </tr>\n",
       "  </thead>\n",
       "  <tbody>\n",
       "    <tr>\n",
       "      <th>0</th>\n",
       "      <td>2015</td>\n",
       "      <td>준중형</td>\n",
       "      <td>11.8</td>\n",
       "      <td>172</td>\n",
       "      <td>21.0</td>\n",
       "      <td>가솔린</td>\n",
       "      <td>0</td>\n",
       "      <td>1999</td>\n",
       "      <td>1300</td>\n",
       "      <td>자동</td>\n",
       "    </tr>\n",
       "    <tr>\n",
       "      <th>1</th>\n",
       "      <td>2015</td>\n",
       "      <td>준중형</td>\n",
       "      <td>12.3</td>\n",
       "      <td>204</td>\n",
       "      <td>27.0</td>\n",
       "      <td>가솔린</td>\n",
       "      <td>0</td>\n",
       "      <td>1591</td>\n",
       "      <td>1300</td>\n",
       "      <td>자동</td>\n",
       "    </tr>\n",
       "    <tr>\n",
       "      <th>2</th>\n",
       "      <td>2015</td>\n",
       "      <td>소형</td>\n",
       "      <td>15.0</td>\n",
       "      <td>100</td>\n",
       "      <td>13.6</td>\n",
       "      <td>가솔린</td>\n",
       "      <td>0</td>\n",
       "      <td>1368</td>\n",
       "      <td>1035</td>\n",
       "      <td>수동</td>\n",
       "    </tr>\n",
       "    <tr>\n",
       "      <th>3</th>\n",
       "      <td>2014</td>\n",
       "      <td>소형</td>\n",
       "      <td>14.0</td>\n",
       "      <td>140</td>\n",
       "      <td>17.0</td>\n",
       "      <td>가솔린</td>\n",
       "      <td>0</td>\n",
       "      <td>1591</td>\n",
       "      <td>1090</td>\n",
       "      <td>자동</td>\n",
       "    </tr>\n",
       "    <tr>\n",
       "      <th>4</th>\n",
       "      <td>2015</td>\n",
       "      <td>대형</td>\n",
       "      <td>9.6</td>\n",
       "      <td>175</td>\n",
       "      <td>46.0</td>\n",
       "      <td>디젤</td>\n",
       "      <td>0</td>\n",
       "      <td>2497</td>\n",
       "      <td>1990</td>\n",
       "      <td>자동</td>\n",
       "    </tr>\n",
       "  </tbody>\n",
       "</table>\n",
       "</div>"
      ],
      "text/plain": [
       "     년식   종류    연비   마력    토크   연료  하이브리드   배기량    중량 변속기\n",
       "0  2015  준중형  11.8  172  21.0  가솔린      0  1999  1300  자동\n",
       "1  2015  준중형  12.3  204  27.0  가솔린      0  1591  1300  자동\n",
       "2  2015   소형  15.0  100  13.6  가솔린      0  1368  1035  수동\n",
       "3  2014   소형  14.0  140  17.0  가솔린      0  1591  1090  자동\n",
       "4  2015   대형   9.6  175  46.0   디젤      0  2497  1990  자동"
      ]
     },
     "execution_count": 17,
     "metadata": {},
     "output_type": "execute_result"
    }
   ],
   "source": [
    "x_train = df_train.drop(['가격'], axis=1)\n",
    "x_test = df_test.drop(['가격'], axis=1)\n",
    "y_train = df_train['가격']\n",
    "y_test = df_test['가격']\n",
    "\n",
    "x_train.head()"
   ]
  },
  {
   "cell_type": "code",
   "execution_count": 18,
   "metadata": {},
   "outputs": [],
   "source": [
    "# 데이터 인코딩 함수 만들기\n",
    "from sklearn.preprocessing import OneHotEncoder\n",
    "from sklearn.compose import make_column_transformer\n",
    "\n",
    "transformer = make_column_transformer(\n",
    "    (OneHotEncoder(), ['종류', '연료', '변속기']), # 해당 컬럼에는 인코딩 진행\n",
    "    remainder='passthrough') # 나머지는 통과 시킴\n"
   ]
  },
  {
   "cell_type": "markdown",
   "metadata": {},
   "source": [
    "```\n",
    "1.결측치 : df_train, df_test 모두 결측치는 존재하지 않음 \n",
    "2.중복값 : df_train에 있는 중복값 하나 제거 (sweetviz를 통해 확인 가능)\n",
    "3.이상치 : 가격(적은 수 이므로 점진적으로 수용하는 것으로 한다.) 년식, 마력, 하이브리드, 배기량 존재\n",
    "4.인코딩: 종류, 연료, 변속기 인코딩 필요! 하이브리드(숫자이기는하나 범주형)\n",
    "5. F&L 관계성 유무 : heatmap 분석 관계성이 있음 > 학습은 가능할 듯! \n",
    "```"
   ]
  },
  {
   "cell_type": "markdown",
   "metadata": {},
   "source": [
    "### 1. 선형회귀분석_단순"
   ]
  },
  {
   "cell_type": "code",
   "execution_count": 19,
   "metadata": {},
   "outputs": [
    {
     "name": "stdout",
     "output_type": "stream",
     "text": [
      "0.8845131673485602\n",
      "0.7739730315245115\n",
      "MSE: 1402273.525, RMSE: 1184.176, MAE: 570.060, R^2: 0.774\n"
     ]
    }
   ],
   "source": [
    "from sklearn.compose import make_column_transformer\n",
    "from sklearn.linear_model import LinearRegression\n",
    "from sklearn.pipeline import make_pipeline # 한번에 \n",
    "\n",
    "# 모델 생성\n",
    "model = make_pipeline(transformer, LinearRegression())\n",
    "\n",
    "# 모델 학습\n",
    "model.fit(x_train, y_train)\n",
    "\n",
    "# 모델 검증\n",
    "print(model.score(x_train, y_train))\n",
    "print(model.score(x_test, y_test))\n",
    "\n",
    "y_predict = model.predict(x_test)\n",
    "evaluate_reg_all(y_test, y_predict)"
   ]
  },
  {
   "cell_type": "markdown",
   "metadata": {},
   "source": [
    "### 2. 의사결정트리"
   ]
  },
  {
   "cell_type": "code",
   "execution_count": 20,
   "metadata": {},
   "outputs": [
    {
     "name": "stdout",
     "output_type": "stream",
     "text": [
      "1.0\n",
      "0.910305230835096\n",
      "MSE: 556467.226, RMSE: 745.967, MAE: 332.710, R^2: 0.910\n"
     ]
    }
   ],
   "source": [
    "from sklearn.tree import DecisionTreeRegressor\n",
    "from sklearn.tree import plot_tree\n",
    "\n",
    "# 모델생성\n",
    "model = make_pipeline(transformer, DecisionTreeRegressor())\n",
    "\n",
    "# 모델학습\n",
    "model.fit(x_train, y_train)\n",
    "\n",
    "# 모델검증\n",
    "\n",
    "print(model.score(x_train, y_train))\n",
    "print(model.score(x_test, y_test))\n",
    "\n",
    "y_predict = model.predict(x_test)\n",
    "\n",
    "evaluate_reg_all(y_test, y_predict)\n"
   ]
  },
  {
   "cell_type": "code",
   "execution_count": 26,
   "metadata": {},
   "outputs": [],
   "source": [
    "import numpy as np\n",
    "df_train_np = np.array(df_train) "
   ]
  },
  {
   "cell_type": "code",
   "execution_count": 27,
   "metadata": {},
   "outputs": [
    {
     "data": {
      "text/plain": [
       "array([[1885, 2015, '준중형', 11.8, 172, 21.0, '가솔린', 0, 1999, 1300, '자동'],\n",
       "       [2190, 2015, '준중형', 12.3, 204, 27.0, '가솔린', 0, 1591, 1300, '자동'],\n",
       "       [1135, 2015, '소형', 15.0, 100, 13.6, '가솔린', 0, 1368, 1035, '수동'],\n",
       "       [1645, 2014, '소형', 14.0, 140, 17.0, '가솔린', 0, 1591, 1090, '자동'],\n",
       "       [1960, 2015, '대형', 9.6, 175, 46.0, '디젤', 0, 2497, 1990, '자동'],\n",
       "       [3277, 2015, '중형', 12.4, 200, 44.5, '디젤', 0, 2199, 1864, '자동'],\n",
       "       [3065, 2015, '중형', 13.8, 200, 44.5, '디젤', 0, 2199, 1799, '자동'],\n",
       "       [1459, 2014, '소형', 14.1, 100, 13.6, '가솔린', 0, 1368, 1095, '자동'],\n",
       "       [2695, 2015, '중형', 10.8, 245, 36.0, '가솔린', 0, 1998, 1570, '자동'],\n",
       "       [1492, 2015, '소형', 14.0, 100, 13.6, '가솔린', 0, 1368, 1103, '자동'],\n",
       "       [2080, 2015, '준중형', 13.8, 184, 41.0, '디젤', 0, 1995, 1548, '자동'],\n",
       "       [2595, 2015, '중형', 11.4, 200, 20.9, '디젤', 0, 2199, 1864, '자동'],\n",
       "       [2250, 2015, '준중형', 15.0, 186, 41.0, '디젤', 0, 1995, 1615, '수동'],\n",
       "       [1915, 2015, '대형', 6.8, 159, 23.0, 'LPG', 0, 2359, 1935, '수동'],\n",
       "       [1104, 2013, '소형', 13.3, 108, 13.6, '가솔린', 0, 1396, 1035, '자동'],\n",
       "       [1960, 2015, '대형', 11.4, 175, 46.0, '디젤', 0, 2497, 1990, '수동'],\n",
       "       [1960, 2015, '대형', 11.4, 175, 46.0, '디젤', 0, 2497, 1990, '수동'],\n",
       "       [4650, 2015, '대형', 9.2, 282, 35.4, '가솔린', 0, 3342, 1900, '자동'],\n",
       "       [3373, 2015, '중형', 11.9, 200, 44.5, '디젤', 0, 2199, 1840, '자동'],\n",
       "       [5710, 2015, '대형', 8.5, 315, 40.5, '가솔린', 0, 3778, 2000, '자동'],\n",
       "       [1915, 2015, '대형', 6.4, 159, 23.0, 'LPG', 0, 2359, 1935, '자동'],\n",
       "       [2366, 2015, '중형', 11.5, 193, 25.2, '가솔린', 0, 2359, 1575, '자동'],\n",
       "       [1610, 2015, '준중형', 18.5, 128, 28.5, '디젤', 0, 1582, 1305, '수동'],\n",
       "       [2150, 2015, '대형', 6.6, 159, 23.0, '디젤', 0, 2359, 2165, '수동'],\n",
       "       [2745, 2015, '중형', 16.2, 141, 34.7, '디젤', 0, 1685, 1540, '자동'],\n",
       "       [3195, 2015, '중형', 13.0, 184, 41.0, '디젤', 0, 1995, 1859, '자동'],\n",
       "       [3585, 2015, '중형', 11.3, 200, 44.5, '디젤', 0, 2199, 1905, '자동'],\n",
       "       [1270, 2011, '소형', 16.1, 108, 13.9, '가솔린', 0, 1396, 1040, '자동'],\n",
       "       [1270, 2012, '소형', 14.3, 108, 13.9, '가솔린', 0, 1396, 1040, '수동'],\n",
       "       [1845, 2015, '준중형', 12.4, 140, 17.0, '가솔린', 0, 1591, 1225, '자동'],\n",
       "       [3024, 2015, '대형', 11.3, 190, 24.6, '가솔린', 0, 2359, 1575, '자동'],\n",
       "       [3990, 2015, '대형', 9.5, 270, 31.6, '가솔린', 0, 2999, 1670, '자동'],\n",
       "       [1542, 2015, '대형', 8.9, 133, 26.5, '디젤', 0, 2497, 1751, '자동'],\n",
       "       [1850, 2014, '대형', 6.8, 159, 23.0, 'LPG', 0, 2359, 1935, '수동'],\n",
       "       [1560, 2015, '소형', 19.0, 136, 30.6, '디젤', 0, 1582, 1160, '수동'],\n",
       "       [1630, 2015, '대형', 9.1, 133, 26.5, '디젤', 0, 2497, 1850, '수동'],\n",
       "       [1410, 2015, '준중형', 14.1, 140, 17.0, '가솔린', 0, 1591, 1210, '수동'],\n",
       "       [1850, 2014, '대형', 6.4, 159, 23.0, 'LPG', 0, 2359, 1935, '자동'],\n",
       "       [2054, 2012, '준중형', 14.0, 114, 15.0, 'LPG', 1, 1591, 1297, '자동'],\n",
       "       [1519, 2015, '소형', 14.0, 140, 17.0, '가솔린', 0, 1591, 1085, '자동'],\n",
       "       [1149, 2011, '소형', 16.1, 108, 13.9, '가솔린', 0, 1396, 1035, '자동'],\n",
       "       [1430, 2013, '소형', 13.3, 108, 13.9, '가솔린', 0, 1396, 1065, '자동'],\n",
       "       [1895, 2014, '대형', 9.6, 175, 46.0, '디젤', 0, 2497, 1990, '자동'],\n",
       "       [3361, 2015, '대형', 10.4, 270, 31.6, '가솔린', 0, 2999, 1590, '자동'],\n",
       "       [2160, 2015, '대형', 9.5, 175, 46.0, '디젤', 0, 2497, 2210, '자동'],\n",
       "       [1955, 2015, '준중형', 10.3, 166, 20.9, '가솔린', 0, 1999, 1452, '자동'],\n",
       "       [1104, 2013, '소형', 15.0, 108, 13.6, '가솔린', 0, 1396, 1035, '수동'],\n",
       "       [5463, 2015, '대형', 9.0, 315, 40.5, '가솔린', 0, 3778, 1930, '자동'],\n",
       "       [2340, 2015, '준중형', 15.6, 141, 34.7, '디젤', 0, 1685, 1565, '자동'],\n",
       "       [1149, 2011, '소형', 18.0, 108, 13.9, '가솔린', 0, 1396, 1035, '수동'],\n",
       "       [2845, 2015, '중형', 15.5, 166, 34.7, '가솔린', 0, 1999, 1470, '자동'],\n",
       "       [2495, 2015, '중형', 11.4, 166, 20.9, '가솔린', 0, 1999, 1470, '자동'],\n",
       "       [4190, 2015, '대형', 9.5, 294, 35.3, '가솔린', 0, 3342, 1690, '자동'],\n",
       "       [2430, 2015, '준중형', 14.1, 186, 41.0, '디젤', 0, 1995, 1665, '수동'],\n",
       "       [1885, 2015, '준중형', 12.7, 172, 21.0, '가솔린', 0, 1999, 1300, '수동'],\n",
       "       [1895, 2014, '대형', 11.4, 175, 46.0, '디젤', 0, 2497, 1990, '수동'],\n",
       "       [3091, 2015, '중형', 14.0, 200, 43.0, '디젤', 0, 2199, 1826, '수동'],\n",
       "       [2110, 2015, '준중형', 17.3, 136, 30.6, '디젤', 0, 1582, 1350, '자동'],\n",
       "       [2150, 2015, '대형', 6.3, 159, 23.0, '디젤', 0, 2359, 2165, '자동'],\n",
       "       [4058, 2015, '대형', 10.7, 255, 48.0, '디젤', 0, 2959, 2115, '자동'],\n",
       "       [2250, 2015, '준중형', 14.4, 186, 41.0, '디젤', 0, 1995, 1615, '자동'],\n",
       "       [3450, 2015, '대형', 16.0, 159, 21.0, '가솔린', 1, 2359, 1680, '자동'],\n",
       "       [1270, 2011, '소형', 18.0, 108, 13.9, '가솔린', 0, 1396, 1040, '수동'],\n",
       "       [3838, 2015, '대형', 11.2, 255, 48.0, '디젤', 0, 2959, 2035, '자동'],\n",
       "       [11150, 2015, '대형', 8.1, 416, 52.0, '가솔린', 0, 5038, 2065, '자동'],\n",
       "       [1164, 2012, '소형', 14.3, 108, 13.9, '가솔린', 0, 1396, 1035, '수동'],\n",
       "       [3802, 2015, '중형', 8.5, 290, 34.8, '가솔린', 0, 3342, 1901, '자동'],\n",
       "       [1270, 2012, '소형', 13.3, 108, 13.9, '가솔린', 0, 1396, 1040, '자동'],\n",
       "       [2430, 2015, '준중형', 12.8, 186, 41.0, '디젤', 0, 1995, 1665, '자동'],\n",
       "       [2870, 2015, '중형', 17.7, 156, 19.3, '가솔린', 1, 1999, 1585, '자동'],\n",
       "       [3254, 2015, '대형', 13.8, 202, 45.0, '디젤', 0, 2199, 1691, '자동']],\n",
       "      dtype=object)"
      ]
     },
     "execution_count": 27,
     "metadata": {},
     "output_type": "execute_result"
    }
   ],
   "source": [
    "df_train_np"
   ]
  },
  {
   "cell_type": "code",
   "execution_count": 23,
   "metadata": {},
   "outputs": [
    {
     "ename": "AttributeError",
     "evalue": "'numpy.ndarray' object has no attribute 'feature_names'",
     "output_type": "error",
     "traceback": [
      "\u001b[1;31m---------------------------------------------------------------------------\u001b[0m",
      "\u001b[1;31mAttributeError\u001b[0m                            Traceback (most recent call last)",
      "\u001b[1;32mc:\\Users\\user\\Desktop\\camp29\\data_analysis\\1. 머신러닝\\현대자동차문제.ipynb Cell 30\u001b[0m line \u001b[0;36m3\n\u001b[0;32m      <a href='vscode-notebook-cell:/c%3A/Users/user/Desktop/camp29/data_analysis/1.%20%EB%A8%B8%EC%8B%A0%EB%9F%AC%EB%8B%9D/%ED%98%84%EB%8C%80%EC%9E%90%EB%8F%99%EC%B0%A8%EB%AC%B8%EC%A0%9C.ipynb#X40sZmlsZQ%3D%3D?line=0'>1</a>\u001b[0m \u001b[39m# 알고리즘의 플롯 만들고싶었는데 실패!\u001b[39;00m\n\u001b[0;32m      <a href='vscode-notebook-cell:/c%3A/Users/user/Desktop/camp29/data_analysis/1.%20%EB%A8%B8%EC%8B%A0%EB%9F%AC%EB%8B%9D/%ED%98%84%EB%8C%80%EC%9E%90%EB%8F%99%EC%B0%A8%EB%AC%B8%EC%A0%9C.ipynb#X40sZmlsZQ%3D%3D?line=1'>2</a>\u001b[0m plt\u001b[39m.\u001b[39mfigure(figsize\u001b[39m=\u001b[39m(\u001b[39m15\u001b[39m,\u001b[39m10\u001b[39m))\n\u001b[1;32m----> <a href='vscode-notebook-cell:/c%3A/Users/user/Desktop/camp29/data_analysis/1.%20%EB%A8%B8%EC%8B%A0%EB%9F%AC%EB%8B%9D/%ED%98%84%EB%8C%80%EC%9E%90%EB%8F%99%EC%B0%A8%EB%AC%B8%EC%A0%9C.ipynb#X40sZmlsZQ%3D%3D?line=2'>3</a>\u001b[0m plot_tree(model,filled\u001b[39m=\u001b[39m\u001b[39mTrue\u001b[39;00m, feature_names\u001b[39m=\u001b[39m df_train_np\u001b[39m.\u001b[39;49mfeature_names)\n\u001b[0;32m      <a href='vscode-notebook-cell:/c%3A/Users/user/Desktop/camp29/data_analysis/1.%20%EB%A8%B8%EC%8B%A0%EB%9F%AC%EB%8B%9D/%ED%98%84%EB%8C%80%EC%9E%90%EB%8F%99%EC%B0%A8%EB%AC%B8%EC%A0%9C.ipynb#X40sZmlsZQ%3D%3D?line=3'>4</a>\u001b[0m plt\u001b[39m.\u001b[39mshow()\n",
      "\u001b[1;31mAttributeError\u001b[0m: 'numpy.ndarray' object has no attribute 'feature_names'"
     ]
    }
   ],
   "source": [
    "# 알고리즘의 플롯 만들고싶었는데 실패!\n",
    "plt.figure(figsize=(15,10))\n",
    "plot_tree(model,filled=True, feature_names= df_train_np.feature_names)\n",
    "plt.show()"
   ]
  },
  {
   "cell_type": "markdown",
   "metadata": {},
   "source": [
    "### 3.  K최근접 이웃 모델"
   ]
  },
  {
   "cell_type": "code",
   "execution_count": null,
   "metadata": {},
   "outputs": [
    {
     "name": "stdout",
     "output_type": "stream",
     "text": [
      "0.7893994995666986\n",
      "0.5894241447591622\n",
      "MSE: 2547216.625, RMSE: 1596.000, MAE: 585.213, R^2: 0.589\n"
     ]
    }
   ],
   "source": [
    "from sklearn.neighbors import KNeighborsRegressor\n",
    "\n",
    "# 모델생성\n",
    "model = make_pipeline(transformer, KNeighborsRegressor())\n",
    "\n",
    "# 모델학습\n",
    "model.fit(x_train, y_train)\n",
    "\n",
    "# 모델검증\n",
    "print(model.score(x_train,y_train))\n",
    "print(model.score(x_test, y_test))\n",
    "\n",
    "# 모델예측\n",
    "y_predict = model.predict(x_test)\n",
    "\n",
    "evaluate_reg_all(y_test, y_predict)"
   ]
  },
  {
   "cell_type": "code",
   "execution_count": null,
   "metadata": {},
   "outputs": [
    {
     "name": "stdout",
     "output_type": "stream",
     "text": [
      "0.8757861078168101\n",
      "0.7031896016457044\n",
      "MSE: 1841414.616, RMSE: 1356.987, MAE: 493.548, R^2: 0.703\n"
     ]
    }
   ],
   "source": [
    "from sklearn.neighbors import KNeighborsRegressor\n",
    "\n",
    "# 모델생성\n",
    "model = make_pipeline(transformer, KNeighborsRegressor(n_neighbors=3))\n",
    "\n",
    "# 모델학습\n",
    "model.fit(x_train, y_train)\n",
    "\n",
    "# 모델검증\n",
    "print(model.score(x_train,y_train))\n",
    "print(model.score(x_test, y_test))\n",
    "\n",
    "# 모델예측\n",
    "y_predict = model.predict(x_test)\n",
    "\n",
    "evaluate_reg_all(y_test, y_predict)"
   ]
  },
  {
   "cell_type": "code",
   "execution_count": null,
   "metadata": {},
   "outputs": [],
   "source": []
  }
 ],
 "metadata": {
  "kernelspec": {
   "display_name": "Python 3",
   "language": "python",
   "name": "python3"
  },
  "language_info": {
   "codemirror_mode": {
    "name": "ipython",
    "version": 3
   },
   "file_extension": ".py",
   "mimetype": "text/x-python",
   "name": "python",
   "nbconvert_exporter": "python",
   "pygments_lexer": "ipython3",
   "version": "3.10.11"
  },
  "orig_nbformat": 4
 },
 "nbformat": 4,
 "nbformat_minor": 2
}
